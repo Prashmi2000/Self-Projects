{
 "cells": [
  {
   "cell_type": "markdown",
   "id": "breeding-terrain",
   "metadata": {
    "papermill": {
     "duration": 0.01934,
     "end_time": "2021-05-24T12:21:20.320501",
     "exception": false,
     "start_time": "2021-05-24T12:21:20.301161",
     "status": "completed"
    },
    "tags": []
   },
   "source": [
    "Apriori is an algorithm for frequent item set mining and association rule learning over relational databases. It proceeds by identifying the frequent individual items in the database and extending them to larger and larger item sets as long as those item sets appear sufficiently often in the database. The frequent item sets determined by Apriori can be used to determine association rules which highlight general trends in the database: this has applications in domains such as market basket analysis."
   ]
  },
  {
   "cell_type": "markdown",
   "id": "ec230633",
   "metadata": {},
   "source": [
    "# Install apyori"
   ]
  },
  {
   "cell_type": "code",
   "execution_count": 88,
   "id": "liberal-terrace",
   "metadata": {
    "execution": {
     "iopub.execute_input": "2021-05-24T12:21:20.380942Z",
     "iopub.status.busy": "2021-05-24T12:21:20.369131Z",
     "iopub.status.idle": "2021-05-24T12:21:31.198563Z",
     "shell.execute_reply": "2021-05-24T12:21:31.197808Z",
     "shell.execute_reply.started": "2021-05-24T12:16:24.051418Z"
    },
    "papermill": {
     "duration": 10.85933,
     "end_time": "2021-05-24T12:21:31.198731",
     "exception": false,
     "start_time": "2021-05-24T12:21:20.339401",
     "status": "completed"
    },
    "tags": []
   },
   "outputs": [
    {
     "name": "stdout",
     "output_type": "stream",
     "text": [
      "Requirement already satisfied: apyori in d:\\raj_program_files_dsa\\anaconda\\lib\\site-packages (1.1.2)\n"
     ]
    }
   ],
   "source": [
    "#you might need to install apyori\n",
    "!pip install apyori"
   ]
  },
  {
   "cell_type": "markdown",
   "id": "ac278728",
   "metadata": {},
   "source": [
    "# Import Important Libraries."
   ]
  },
  {
   "cell_type": "code",
   "execution_count": 89,
   "id": "fatty-committee",
   "metadata": {
    "execution": {
     "iopub.execute_input": "2021-05-24T12:21:31.247755Z",
     "iopub.status.busy": "2021-05-24T12:21:31.246930Z",
     "iopub.status.idle": "2021-05-24T12:21:32.207923Z",
     "shell.execute_reply": "2021-05-24T12:21:32.206870Z",
     "shell.execute_reply.started": "2021-05-24T12:16:30.758214Z"
    },
    "papermill": {
     "duration": 0.988223,
     "end_time": "2021-05-24T12:21:32.208081",
     "exception": false,
     "start_time": "2021-05-24T12:21:31.219858",
     "status": "completed"
    },
    "tags": []
   },
   "outputs": [],
   "source": [
    "#importing libraries\n",
    "import pandas as pd\n",
    "import numpy as np\n",
    "import matplotlib.pyplot as plt\n",
    "import seaborn as sns"
   ]
  },
  {
   "cell_type": "markdown",
   "id": "80a4382d",
   "metadata": {},
   "source": [
    "# Importing Dataset."
   ]
  },
  {
   "cell_type": "code",
   "execution_count": 110,
   "id": "accepting-error",
   "metadata": {
    "execution": {
     "iopub.execute_input": "2021-05-24T12:21:32.253211Z",
     "iopub.status.busy": "2021-05-24T12:21:32.252277Z",
     "iopub.status.idle": "2021-05-24T12:21:32.348996Z",
     "shell.execute_reply": "2021-05-24T12:21:32.348313Z",
     "shell.execute_reply.started": "2021-05-24T12:16:33.402603Z"
    },
    "papermill": {
     "duration": 0.120321,
     "end_time": "2021-05-24T12:21:32.349138",
     "exception": false,
     "start_time": "2021-05-24T12:21:32.228817",
     "status": "completed"
    },
    "tags": []
   },
   "outputs": [
    {
     "data": {
      "text/html": [
       "<div>\n",
       "<style scoped>\n",
       "    .dataframe tbody tr th:only-of-type {\n",
       "        vertical-align: middle;\n",
       "    }\n",
       "\n",
       "    .dataframe tbody tr th {\n",
       "        vertical-align: top;\n",
       "    }\n",
       "\n",
       "    .dataframe thead th {\n",
       "        text-align: right;\n",
       "    }\n",
       "</style>\n",
       "<table border=\"1\" class=\"dataframe\">\n",
       "  <thead>\n",
       "    <tr style=\"text-align: right;\">\n",
       "      <th></th>\n",
       "      <th>Member_number</th>\n",
       "      <th>Date</th>\n",
       "      <th>Description</th>\n",
       "    </tr>\n",
       "  </thead>\n",
       "  <tbody>\n",
       "    <tr>\n",
       "      <th>0</th>\n",
       "      <td>1808</td>\n",
       "      <td>21-07-2015</td>\n",
       "      <td>tropical fruit</td>\n",
       "    </tr>\n",
       "    <tr>\n",
       "      <th>1</th>\n",
       "      <td>2552</td>\n",
       "      <td>05-01-2015</td>\n",
       "      <td>whole milk</td>\n",
       "    </tr>\n",
       "    <tr>\n",
       "      <th>2</th>\n",
       "      <td>2300</td>\n",
       "      <td>19-09-2015</td>\n",
       "      <td>pip fruit</td>\n",
       "    </tr>\n",
       "    <tr>\n",
       "      <th>3</th>\n",
       "      <td>1187</td>\n",
       "      <td>12-12-2015</td>\n",
       "      <td>other vegetables</td>\n",
       "    </tr>\n",
       "    <tr>\n",
       "      <th>4</th>\n",
       "      <td>3037</td>\n",
       "      <td>01-02-2015</td>\n",
       "      <td>whole milk</td>\n",
       "    </tr>\n",
       "  </tbody>\n",
       "</table>\n",
       "</div>"
      ],
      "text/plain": [
       "   Member_number        Date       Description\n",
       "0           1808  21-07-2015    tropical fruit\n",
       "1           2552  05-01-2015        whole milk\n",
       "2           2300  19-09-2015         pip fruit\n",
       "3           1187  12-12-2015  other vegetables\n",
       "4           3037  01-02-2015        whole milk"
      ]
     },
     "execution_count": 110,
     "metadata": {},
     "output_type": "execute_result"
    }
   ],
   "source": [
    "#importing dataset\n",
    "ds = pd.read_csv('D:/CSV Files/Groceries_dataset.csv')\n",
    "ds.head()"
   ]
  },
  {
   "cell_type": "markdown",
   "id": "b558822f",
   "metadata": {},
   "source": [
    "# shape of the data set."
   ]
  },
  {
   "cell_type": "code",
   "execution_count": 91,
   "id": "broke-position",
   "metadata": {
    "execution": {
     "iopub.execute_input": "2021-05-24T12:21:32.397263Z",
     "iopub.status.busy": "2021-05-24T12:21:32.396288Z",
     "iopub.status.idle": "2021-05-24T12:21:32.401144Z",
     "shell.execute_reply": "2021-05-24T12:21:32.400463Z",
     "shell.execute_reply.started": "2021-05-24T12:16:35.416612Z"
    },
    "papermill": {
     "duration": 0.031191,
     "end_time": "2021-05-24T12:21:32.401308",
     "exception": false,
     "start_time": "2021-05-24T12:21:32.370117",
     "status": "completed"
    },
    "tags": []
   },
   "outputs": [
    {
     "data": {
      "text/plain": [
       "(38765, 3)"
      ]
     },
     "execution_count": 91,
     "metadata": {},
     "output_type": "execute_result"
    }
   ],
   "source": [
    "#dataset has 38765 rows and 3 columns\n",
    "ds.shape"
   ]
  },
  {
   "cell_type": "code",
   "execution_count": 92,
   "id": "breeding-sheffield",
   "metadata": {
    "execution": {
     "iopub.execute_input": "2021-05-24T12:21:32.453501Z",
     "iopub.status.busy": "2021-05-24T12:21:32.452205Z",
     "iopub.status.idle": "2021-05-24T12:21:32.457483Z",
     "shell.execute_reply": "2021-05-24T12:21:32.457986Z",
     "shell.execute_reply.started": "2021-05-24T12:16:38.529270Z"
    },
    "papermill": {
     "duration": 0.035104,
     "end_time": "2021-05-24T12:21:32.458206",
     "exception": false,
     "start_time": "2021-05-24T12:21:32.423102",
     "status": "completed"
    },
    "tags": []
   },
   "outputs": [],
   "source": [
    "#setting index as Date\n",
    "ds.set_index('Date',inplace = True)"
   ]
  },
  {
   "cell_type": "code",
   "execution_count": 93,
   "id": "confident-driver",
   "metadata": {
    "execution": {
     "iopub.execute_input": "2021-05-24T12:21:32.506855Z",
     "iopub.status.busy": "2021-05-24T12:21:32.505857Z",
     "iopub.status.idle": "2021-05-24T12:21:32.528699Z",
     "shell.execute_reply": "2021-05-24T12:21:32.528041Z",
     "shell.execute_reply.started": "2021-05-24T12:16:40.317121Z"
    },
    "papermill": {
     "duration": 0.048032,
     "end_time": "2021-05-24T12:21:32.528876",
     "exception": false,
     "start_time": "2021-05-24T12:21:32.480844",
     "status": "completed"
    },
    "tags": []
   },
   "outputs": [],
   "source": [
    "#converting date into a particular format\n",
    "ds.index=pd.to_datetime(ds.index)"
   ]
  },
  {
   "cell_type": "markdown",
   "id": "7ba47d18",
   "metadata": {},
   "source": [
    "# After Applying fileration On our dataset"
   ]
  },
  {
   "cell_type": "markdown",
   "id": "fe1deced",
   "metadata": {},
   "source": [
    "# Top 5 upper rows of our Dataset."
   ]
  },
  {
   "cell_type": "code",
   "execution_count": 94,
   "id": "limiting-thumb",
   "metadata": {
    "execution": {
     "iopub.execute_input": "2021-05-24T12:21:32.583984Z",
     "iopub.status.busy": "2021-05-24T12:21:32.583232Z",
     "iopub.status.idle": "2021-05-24T12:21:32.586173Z",
     "shell.execute_reply": "2021-05-24T12:21:32.586640Z",
     "shell.execute_reply.started": "2021-05-24T12:16:42.024196Z"
    },
    "papermill": {
     "duration": 0.036352,
     "end_time": "2021-05-24T12:21:32.586847",
     "exception": false,
     "start_time": "2021-05-24T12:21:32.550495",
     "status": "completed"
    },
    "tags": []
   },
   "outputs": [
    {
     "data": {
      "text/html": [
       "<div>\n",
       "<style scoped>\n",
       "    .dataframe tbody tr th:only-of-type {\n",
       "        vertical-align: middle;\n",
       "    }\n",
       "\n",
       "    .dataframe tbody tr th {\n",
       "        vertical-align: top;\n",
       "    }\n",
       "\n",
       "    .dataframe thead th {\n",
       "        text-align: right;\n",
       "    }\n",
       "</style>\n",
       "<table border=\"1\" class=\"dataframe\">\n",
       "  <thead>\n",
       "    <tr style=\"text-align: right;\">\n",
       "      <th></th>\n",
       "      <th>Member_number</th>\n",
       "      <th>Description</th>\n",
       "    </tr>\n",
       "    <tr>\n",
       "      <th>Date</th>\n",
       "      <th></th>\n",
       "      <th></th>\n",
       "    </tr>\n",
       "  </thead>\n",
       "  <tbody>\n",
       "    <tr>\n",
       "      <th>2015-07-21</th>\n",
       "      <td>1808</td>\n",
       "      <td>tropical fruit</td>\n",
       "    </tr>\n",
       "    <tr>\n",
       "      <th>2015-05-01</th>\n",
       "      <td>2552</td>\n",
       "      <td>whole milk</td>\n",
       "    </tr>\n",
       "    <tr>\n",
       "      <th>2015-09-19</th>\n",
       "      <td>2300</td>\n",
       "      <td>pip fruit</td>\n",
       "    </tr>\n",
       "    <tr>\n",
       "      <th>2015-12-12</th>\n",
       "      <td>1187</td>\n",
       "      <td>other vegetables</td>\n",
       "    </tr>\n",
       "    <tr>\n",
       "      <th>2015-01-02</th>\n",
       "      <td>3037</td>\n",
       "      <td>whole milk</td>\n",
       "    </tr>\n",
       "  </tbody>\n",
       "</table>\n",
       "</div>"
      ],
      "text/plain": [
       "            Member_number       Description\n",
       "Date                                       \n",
       "2015-07-21           1808    tropical fruit\n",
       "2015-05-01           2552        whole milk\n",
       "2015-09-19           2300         pip fruit\n",
       "2015-12-12           1187  other vegetables\n",
       "2015-01-02           3037        whole milk"
      ]
     },
     "execution_count": 94,
     "metadata": {},
     "output_type": "execute_result"
    }
   ],
   "source": [
    "ds.head()"
   ]
  },
  {
   "cell_type": "markdown",
   "id": "e816d772",
   "metadata": {},
   "source": [
    "# Find NULL or Missing Value in Dataset."
   ]
  },
  {
   "cell_type": "code",
   "execution_count": 95,
   "id": "viral-backing",
   "metadata": {
    "execution": {
     "iopub.execute_input": "2021-05-24T12:21:32.635662Z",
     "iopub.status.busy": "2021-05-24T12:21:32.634998Z",
     "iopub.status.idle": "2021-05-24T12:21:32.648692Z",
     "shell.execute_reply": "2021-05-24T12:21:32.648038Z",
     "shell.execute_reply.started": "2021-05-24T12:16:44.822085Z"
    },
    "papermill": {
     "duration": 0.039627,
     "end_time": "2021-05-24T12:21:32.648834",
     "exception": false,
     "start_time": "2021-05-24T12:21:32.609207",
     "status": "completed"
    },
    "tags": []
   },
   "outputs": [
    {
     "data": {
      "text/plain": [
       "Member_number    0\n",
       "Description      0\n",
       "dtype: int64"
      ]
     },
     "execution_count": 95,
     "metadata": {},
     "output_type": "execute_result"
    }
   ],
   "source": [
    "#checking for mising values\n",
    "ds.isnull().sum()"
   ]
  },
  {
   "cell_type": "markdown",
   "id": "attractive-performance",
   "metadata": {
    "papermill": {
     "duration": 0.022145,
     "end_time": "2021-05-24T12:21:32.693114",
     "exception": false,
     "start_time": "2021-05-24T12:21:32.670969",
     "status": "completed"
    },
    "tags": []
   },
   "source": [
    "**NO MISSING VALUES HERE**"
   ]
  },
  {
   "cell_type": "markdown",
   "id": "2b0f7042",
   "metadata": {},
   "source": [
    "# Get the length of our Dataset, numbers of how many Days and Numbers of Years."
   ]
  },
  {
   "cell_type": "code",
   "execution_count": 96,
   "id": "atlantic-november",
   "metadata": {
    "execution": {
     "iopub.execute_input": "2021-05-24T12:21:32.740644Z",
     "iopub.status.busy": "2021-05-24T12:21:32.739992Z",
     "iopub.status.idle": "2021-05-24T12:21:32.819324Z",
     "shell.execute_reply": "2021-05-24T12:21:32.819826Z",
     "shell.execute_reply.started": "2021-05-24T12:16:46.435642Z"
    },
    "papermill": {
     "duration": 0.105091,
     "end_time": "2021-05-24T12:21:32.820012",
     "exception": false,
     "start_time": "2021-05-24T12:21:32.714921",
     "status": "completed"
    },
    "tags": []
   },
   "outputs": [
    {
     "name": "stdout",
     "output_type": "stream",
     "text": [
      "38765 728 2\n"
     ]
    }
   ],
   "source": [
    "#gathering information about products\n",
    "total_item = len(ds)\n",
    "total_days = len(np.unique(ds.index.date))\n",
    "total_months = len(np.unique(ds.index.year))\n",
    "print(total_item,total_days,total_months)"
   ]
  },
  {
   "cell_type": "markdown",
   "id": "magnetic-footage",
   "metadata": {
    "papermill": {
     "duration": 0.021761,
     "end_time": "2021-05-24T12:21:32.864090",
     "exception": false,
     "start_time": "2021-05-24T12:21:32.842329",
     "status": "completed"
    },
    "tags": []
   },
   "source": [
    "**Total 38765 items sold in 728 days throughout 24 months**"
   ]
  },
  {
   "cell_type": "markdown",
   "id": "e7a5863b",
   "metadata": {},
   "source": [
    "# Show The graph Between Top 20 items which is purchased by customers and Count of Purchased items."
   ]
  },
  {
   "cell_type": "code",
   "execution_count": 97,
   "id": "peaceful-school",
   "metadata": {
    "execution": {
     "iopub.execute_input": "2021-05-24T12:21:32.943077Z",
     "iopub.status.busy": "2021-05-24T12:21:32.937306Z",
     "iopub.status.idle": "2021-05-24T12:21:33.296917Z",
     "shell.execute_reply": "2021-05-24T12:21:33.297388Z",
     "shell.execute_reply.started": "2021-05-24T12:18:43.525857Z"
    },
    "papermill": {
     "duration": 0.411369,
     "end_time": "2021-05-24T12:21:33.297586",
     "exception": false,
     "start_time": "2021-05-24T12:21:32.886217",
     "status": "completed"
    },
    "scrolled": true,
    "tags": []
   },
   "outputs": [
    {
     "data": {
      "image/png": "[encoded data removed]",
      "text/plain": [
       "<Figure size 1080x360 with 1 Axes>"
      ]
     },
     "metadata": {
      "needs_background": "light"
     },
     "output_type": "display_data"
    }
   ],
   "source": [
    "plt.figure(figsize=(15,5))\n",
    "sns.barplot(x = ds.Description.value_counts().head(20).index, y = ds.Description.value_counts().head(20).values, palette = 'gnuplot')\n",
    "plt.xlabel('ProductDescription', color = 'red', size = 15)\n",
    "plt.xticks(rotation=45)\n",
    "plt.ylabel('Count of Purchased Items', color = 'red', size = 15)\n",
    "plt.title('Top 20 Items purchased by customers', color = 'blue', size = 20)\n",
    "plt.show()"
   ]
  },
  {
   "cell_type": "markdown",
   "id": "b645bf9a",
   "metadata": {},
   "source": [
    "# Another Graph Between Top 20 items which is purchased by customers and Count of Purchased items."
   ]
  },
  {
   "cell_type": "code",
   "execution_count": 98,
   "id": "24c71055",
   "metadata": {},
   "outputs": [
    {
     "data": {
      "image/png": "[encoded data removed]",
      "text/plain": [
       "<Figure size 1296x504 with 1 Axes>"
      ]
     },
     "metadata": {
      "needs_background": "light"
     },
     "output_type": "display_data"
    }
   ],
   "source": [
    "plt.rcParams['figure.figsize'] = (18, 7)\n",
    "color = plt.cm.copper(np.linspace(0, 1, 40))\n",
    "ds['Description'].value_counts().head(40).plot.bar(color = color)\n",
    "plt.title('Top 20 Items purchased by customers',color ='blue', fontsize = 20)\n",
    "plt.xlabel('ProductDescription', color = 'red', size = 15,)\n",
    "plt.ylabel('Count of Purchased Items', color = 'red', size = 15)\n",
    "plt.xticks(rotation = 60 )\n",
    "plt.grid()\n",
    "plt.show()"
   ]
  },
  {
   "cell_type": "markdown",
   "id": "09517a88",
   "metadata": {},
   "source": [
    "# Count the Values of Items How Many times A perticular item purchased by Customers. "
   ]
  },
  {
   "cell_type": "code",
   "execution_count": 99,
   "id": "received-lightning",
   "metadata": {
    "execution": {
     "iopub.execute_input": "2021-05-24T12:21:33.360567Z",
     "iopub.status.busy": "2021-05-24T12:21:33.355813Z",
     "iopub.status.idle": "2021-05-24T12:21:33.369623Z",
     "shell.execute_reply": "2021-05-24T12:21:33.368873Z",
     "shell.execute_reply.started": "2021-05-24T11:42:58.729570Z"
    },
    "papermill": {
     "duration": 0.047731,
     "end_time": "2021-05-24T12:21:33.369802",
     "exception": false,
     "start_time": "2021-05-24T12:21:33.322071",
     "status": "completed"
    },
    "tags": []
   },
   "outputs": [
    {
     "data": {
      "text/plain": [
       "whole milk               2502\n",
       "other vegetables         1898\n",
       "rolls/buns               1716\n",
       "soda                     1514\n",
       "yogurt                   1334\n",
       "                         ... \n",
       "frozen chicken              5\n",
       "bags                        4\n",
       "baby cosmetics              3\n",
       "preservation products       1\n",
       "kitchen utensil             1\n",
       "Name: Description, Length: 167, dtype: int64"
      ]
     },
     "execution_count": 99,
     "metadata": {},
     "output_type": "execute_result"
    }
   ],
   "source": [
    "ds['Description'].value_counts()"
   ]
  },
  {
   "cell_type": "markdown",
   "id": "911b3c33",
   "metadata": {},
   "source": [
    "# Grouping the Dataset to form a list of items bought by same customer on same date and get the Top 10 dates result."
   ]
  },
  {
   "cell_type": "code",
   "execution_count": 100,
   "id": "proper-japanese",
   "metadata": {
    "execution": {
     "iopub.execute_input": "2021-05-24T12:21:33.427828Z",
     "iopub.status.busy": "2021-05-24T12:21:33.427074Z",
     "iopub.status.idle": "2021-05-24T12:21:35.056867Z",
     "shell.execute_reply": "2021-05-24T12:21:35.056157Z",
     "shell.execute_reply.started": "2021-05-24T11:43:02.481767Z"
    },
    "papermill": {
     "duration": 1.661976,
     "end_time": "2021-05-24T12:21:35.057038",
     "exception": false,
     "start_time": "2021-05-24T12:21:33.395062",
     "status": "completed"
    },
    "tags": []
   },
   "outputs": [],
   "source": [
    "#grouping dataset to form a list of items bought by same customer on same date\n",
    "ds=ds.groupby(['Member_number','Date'])['Description'].apply(lambda x: list(x))"
   ]
  },
  {
   "cell_type": "code",
   "execution_count": 101,
   "id": "cooperative-citizenship",
   "metadata": {
    "execution": {
     "iopub.execute_input": "2021-05-24T12:21:35.121246Z",
     "iopub.status.busy": "2021-05-24T12:21:35.120174Z",
     "iopub.status.idle": "2021-05-24T12:21:35.125328Z",
     "shell.execute_reply": "2021-05-24T12:21:35.124775Z",
     "shell.execute_reply.started": "2021-05-24T11:43:04.983974Z"
    },
    "papermill": {
     "duration": 0.042903,
     "end_time": "2021-05-24T12:21:35.125483",
     "exception": false,
     "start_time": "2021-05-24T12:21:35.082580",
     "status": "completed"
    },
    "tags": []
   },
   "outputs": [
    {
     "data": {
      "text/plain": [
       "Member_number  Date      \n",
       "1000           2014-06-24                    [whole milk, pastry, salty snack]\n",
       "               2015-03-15    [sausage, whole milk, semi-finished bread, yog...\n",
       "               2015-05-27                           [soda, pickled vegetables]\n",
       "               2015-07-24                       [canned beer, misc. beverages]\n",
       "               2015-11-25                          [sausage, hygiene articles]\n",
       "1001           2014-07-02                    [sausage, whole milk, rolls/buns]\n",
       "               2014-12-12                                   [whole milk, soda]\n",
       "               2015-01-20              [frankfurter, soda, whipped/sour cream]\n",
       "               2015-02-05                                  [frankfurter, curd]\n",
       "               2015-04-14                                  [beef, white bread]\n",
       "Name: Description, dtype: object"
      ]
     },
     "execution_count": 101,
     "metadata": {},
     "output_type": "execute_result"
    }
   ],
   "source": [
    "ds.head(10)"
   ]
  },
  {
   "cell_type": "code",
   "execution_count": 102,
   "id": "extensive-meaning",
   "metadata": {
    "execution": {
     "iopub.execute_input": "2021-05-24T12:21:35.182383Z",
     "iopub.status.busy": "2021-05-24T12:21:35.181328Z",
     "iopub.status.idle": "2021-05-24T12:21:35.186784Z",
     "shell.execute_reply": "2021-05-24T12:21:35.186105Z",
     "shell.execute_reply.started": "2021-05-24T11:43:09.617864Z"
    },
    "papermill": {
     "duration": 0.036088,
     "end_time": "2021-05-24T12:21:35.186945",
     "exception": false,
     "start_time": "2021-05-24T12:21:35.150857",
     "status": "completed"
    },
    "tags": []
   },
   "outputs": [
    {
     "data": {
      "text/plain": [
       "(14963,)"
      ]
     },
     "execution_count": 102,
     "metadata": {},
     "output_type": "execute_result"
    }
   ],
   "source": [
    "ds.shape"
   ]
  },
  {
   "cell_type": "markdown",
   "id": "rational-payroll",
   "metadata": {
    "papermill": {
     "duration": 0.025886,
     "end_time": "2021-05-24T12:21:35.238590",
     "exception": false,
     "start_time": "2021-05-24T12:21:35.212704",
     "status": "completed"
    },
    "tags": []
   },
   "source": [
    "**NOW THE DATASET HAS 14963 ROWS**"
   ]
  },
  {
   "cell_type": "markdown",
   "id": "190375d5",
   "metadata": {},
   "source": [
    "# use Apriori to form the dataset into a List."
   ]
  },
  {
   "cell_type": "code",
   "execution_count": 103,
   "id": "valid-dodge",
   "metadata": {
    "execution": {
     "iopub.execute_input": "2021-05-24T12:21:35.298087Z",
     "iopub.status.busy": "2021-05-24T12:21:35.296944Z",
     "iopub.status.idle": "2021-05-24T12:21:35.302075Z",
     "shell.execute_reply": "2021-05-24T12:21:35.301402Z",
     "shell.execute_reply.started": "2021-05-24T12:09:24.904798Z"
    },
    "papermill": {
     "duration": 0.038014,
     "end_time": "2021-05-24T12:21:35.302232",
     "exception": false,
     "start_time": "2021-05-24T12:21:35.264218",
     "status": "completed"
    },
    "tags": []
   },
   "outputs": [
    {
     "data": {
      "text/plain": [
       "[['whole milk', 'pastry', 'salty snack'],\n",
       " ['sausage', 'whole milk', 'semi-finished bread', 'yogurt'],\n",
       " ['soda', 'pickled vegetables'],\n",
       " ['canned beer', 'misc. beverages'],\n",
       " ['sausage', 'hygiene articles'],\n",
       " ['sausage', 'whole milk', 'rolls/buns'],\n",
       " ['whole milk', 'soda'],\n",
       " ['frankfurter', 'soda', 'whipped/sour cream'],\n",
       " ['frankfurter', 'curd'],\n",
       " ['beef', 'white bread']]"
      ]
     },
     "execution_count": 103,
     "metadata": {},
     "output_type": "execute_result"
    }
   ],
   "source": [
    "#apriori takes list as an input, hence converting dtaset to a list\n",
    "transactions = ds.values.tolist()\n",
    "transactions[:10]"
   ]
  },
  {
   "cell_type": "code",
   "execution_count": 104,
   "id": "veterinary-christopher",
   "metadata": {
    "execution": {
     "iopub.execute_input": "2021-05-24T12:21:35.360180Z",
     "iopub.status.busy": "2021-05-24T12:21:35.359456Z",
     "iopub.status.idle": "2021-05-24T12:21:36.809794Z",
     "shell.execute_reply": "2021-05-24T12:21:36.810347Z",
     "shell.execute_reply.started": "2021-05-24T12:12:26.694385Z"
    },
    "jupyter": {
     "outputs_hidden": true
    },
    "papermill": {
     "duration": 1.481896,
     "end_time": "2021-05-24T12:21:36.810574",
     "exception": false,
     "start_time": "2021-05-24T12:21:35.328678",
     "status": "completed"
    },
    "tags": []
   },
   "outputs": [
    {
     "data": {
      "text/plain": [
       "[RelationRecord(items=frozenset({'soda', 'artif. sweetener'}), support=0.00046782062420637575, ordered_statistics=[OrderedStatistic(items_base=frozenset({'artif. sweetener'}), items_add=frozenset({'soda'}), confidence=0.2413793103448276, lift=2.4857251346797353)]),\n",
       " RelationRecord(items=frozenset({'berries', 'condensed milk'}), support=0.0003341575887188398, ordered_statistics=[OrderedStatistic(items_base=frozenset({'condensed milk'}), items_add=frozenset({'berries'}), confidence=0.05102040816326531, lift=2.34177413296607)]),\n",
       " RelationRecord(items=frozenset({'whole milk', 'brandy'}), support=0.0008688097306689834, ordered_statistics=[OrderedStatistic(items_base=frozenset({'brandy'}), items_add=frozenset({'whole milk'}), confidence=0.34210526315789475, lift=2.1662805978127717)]),\n",
       " RelationRecord(items=frozenset({'butter', 'sweet spreads'}), support=0.0003341575887188398, ordered_statistics=[OrderedStatistic(items_base=frozenset({'sweet spreads'}), items_add=frozenset({'butter'}), confidence=0.07352941176470588, lift=2.087705101015738)]),\n",
       " RelationRecord(items=frozenset({'liver loaf', 'canned beer'}), support=0.00040098910646260775, ordered_statistics=[OrderedStatistic(items_base=frozenset({'liver loaf'}), items_add=frozenset({'canned beer'}), confidence=0.12, lift=2.5577777777777775)]),\n",
       " RelationRecord(items=frozenset({'chocolate', 'frozen fish'}), support=0.00040098910646260775, ordered_statistics=[OrderedStatistic(items_base=frozenset({'frozen fish'}), items_add=frozenset({'chocolate'}), confidence=0.058823529411764705, lift=2.493417763706049)]),\n",
       " RelationRecord(items=frozenset({'citrus fruit', 'sauces'}), support=0.0003341575887188398, ordered_statistics=[OrderedStatistic(items_base=frozenset({'sauces'}), items_add=frozenset({'citrus fruit'}), confidence=0.11363636363636365, lift=2.1387935963407663)]),\n",
       " RelationRecord(items=frozenset({'curd', 'cling film/bags'}), support=0.0003341575887188398, ordered_statistics=[OrderedStatistic(items_base=frozenset({'cling film/bags'}), items_add=frozenset({'curd'}), confidence=0.06756756756756757, lift=2.005979193479194)]),\n",
       " RelationRecord(items=frozenset({'waffles', 'condensed milk'}), support=0.0003341575887188398, ordered_statistics=[OrderedStatistic(items_base=frozenset({'condensed milk'}), items_add=frozenset({'waffles'}), confidence=0.05102040816326531, lift=2.7560229868120536)]),\n",
       " RelationRecord(items=frozenset({'frankfurter', 'mustard'}), support=0.0005346521419501437, ordered_statistics=[OrderedStatistic(items_base=frozenset({'mustard'}), items_add=frozenset({'frankfurter'}), confidence=0.08695652173913045, lift=2.302885725278954)]),\n",
       " RelationRecord(items=frozenset({'liver loaf', 'fruit/vegetable juice'}), support=0.00040098910646260775, ordered_statistics=[OrderedStatistic(items_base=frozenset({'liver loaf'}), items_add=frozenset({'fruit/vegetable juice'}), confidence=0.12, lift=3.5276227897838903)]),\n",
       " RelationRecord(items=frozenset({'pickled vegetables', 'ham'}), support=0.0005346521419501437, ordered_statistics=[OrderedStatistic(items_base=frozenset({'pickled vegetables'}), items_add=frozenset({'ham'}), confidence=0.05970149253731344, lift=3.4895055970149254)]),\n",
       " RelationRecord(items=frozenset({'pasta', 'hamburger meat'}), support=0.00046782062420637575, ordered_statistics=[OrderedStatistic(items_base=frozenset({'pasta'}), items_add=frozenset({'hamburger meat'}), confidence=0.05785123966942149, lift=2.6471807314175955)]),\n",
       " RelationRecord(items=frozenset({'soft cheese', 'hamburger meat'}), support=0.0006014836596939117, ordered_statistics=[OrderedStatistic(items_base=frozenset({'soft cheese'}), items_add=frozenset({'hamburger meat'}), confidence=0.060000000000000005, lift=2.745504587155964)]),\n",
       " RelationRecord(items=frozenset({'spread cheese', 'hamburger meat'}), support=0.0003341575887188398, ordered_statistics=[OrderedStatistic(items_base=frozenset({'spread cheese'}), items_add=frozenset({'hamburger meat'}), confidence=0.05, lift=2.2879204892966363)]),\n",
       " RelationRecord(items=frozenset({'roll products ', 'meat'}), support=0.0003341575887188398, ordered_statistics=[OrderedStatistic(items_base=frozenset({'roll products '}), items_add=frozenset({'meat'}), confidence=0.06097560975609757, lift=3.620547812620984)]),\n",
       " RelationRecord(items=frozenset({'sausage', 'meat spreads'}), support=0.0003341575887188398, ordered_statistics=[OrderedStatistic(items_base=frozenset({'meat spreads'}), items_add=frozenset({'sausage'}), confidence=0.14285714285714288, lift=2.3671887359595005)]),\n",
       " RelationRecord(items=frozenset({'misc. beverages', 'salt'}), support=0.0003341575887188398, ordered_statistics=[OrderedStatistic(items_base=frozenset({'salt'}), items_add=frozenset({'misc. beverages'}), confidence=0.05617977528089888, lift=3.5619405827461437)]),\n",
       " RelationRecord(items=frozenset({'misc. beverages', 'spread cheese'}), support=0.0003341575887188398, ordered_statistics=[OrderedStatistic(items_base=frozenset({'spread cheese'}), items_add=frozenset({'misc. beverages'}), confidence=0.05, lift=3.170127118644068)]),\n",
       " RelationRecord(items=frozenset({'white bread', 'mustard'}), support=0.0003341575887188398, ordered_statistics=[OrderedStatistic(items_base=frozenset({'mustard'}), items_add=frozenset({'white bread'}), confidence=0.05434782608695652, lift=2.2651992249000847)]),\n",
       " RelationRecord(items=frozenset({'sweet spreads', 'pip fruit'}), support=0.0005346521419501437, ordered_statistics=[OrderedStatistic(items_base=frozenset({'sweet spreads'}), items_add=frozenset({'pip fruit'}), confidence=0.11764705882352942, lift=2.398301009777208)]),\n",
       " RelationRecord(items=frozenset({'popcorn', 'pork'}), support=0.0003341575887188398, ordered_statistics=[OrderedStatistic(items_base=frozenset({'popcorn'}), items_add=frozenset({'pork'}), confidence=0.10416666666666667, lift=2.808370870870871)]),\n",
       " RelationRecord(items=frozenset({'rum', 'sausage'}), support=0.0003341575887188398, ordered_statistics=[OrderedStatistic(items_base=frozenset({'rum'}), items_add=frozenset({'sausage'}), confidence=0.15625, lift=2.589112679955703)]),\n",
       " RelationRecord(items=frozenset({'spices', 'sausage'}), support=0.0003341575887188398, ordered_statistics=[OrderedStatistic(items_base=frozenset({'spices'}), items_add=frozenset({'sausage'}), confidence=0.125, lift=2.0712901439645623)]),\n",
       " RelationRecord(items=frozenset({'soups', 'seasonal products'}), support=0.0003341575887188398, ordered_statistics=[OrderedStatistic(items_base=frozenset({'soups'}), items_add=frozenset({'seasonal products'}), confidence=0.10416666666666667, lift=14.704205974842768)]),\n",
       " RelationRecord(items=frozenset({'spices', 'soda'}), support=0.0006014836596939117, ordered_statistics=[OrderedStatistic(items_base=frozenset({'spices'}), items_add=frozenset({'soda'}), confidence=0.225, lift=2.317050929112182)]),\n",
       " RelationRecord(items=frozenset({'spread cheese', 'sugar'}), support=0.00040098910646260775, ordered_statistics=[OrderedStatistic(items_base=frozenset({'spread cheese'}), items_add=frozenset({'sugar'}), confidence=0.06, lift=3.3878490566037733)]),\n",
       " RelationRecord(items=frozenset({'sweet spreads', 'tropical fruit'}), support=0.0007351466951814476, ordered_statistics=[OrderedStatistic(items_base=frozenset({'sweet spreads'}), items_add=frozenset({'tropical fruit'}), confidence=0.16176470588235295, lift=2.387066365007542)]),\n",
       " RelationRecord(items=frozenset({'beef', 'whole milk', 'bottled beer'}), support=0.00040098910646260775, ordered_statistics=[OrderedStatistic(items_base=frozenset({'beef', 'bottled beer'}), items_add=frozenset({'whole milk'}), confidence=0.37499999999999994, lift=2.3745768091409225)]),\n",
       " RelationRecord(items=frozenset({'beef', 'whole milk', 'whipped/sour cream'}), support=0.00046782062420637575, ordered_statistics=[OrderedStatistic(items_base=frozenset({'beef', 'whipped/sour cream'}), items_add=frozenset({'whole milk'}), confidence=0.33333333333333337, lift=2.110734941458598), OrderedStatistic(items_base=frozenset({'beef', 'whole milk'}), items_add=frozenset({'whipped/sour cream'}), confidence=0.1, lift=2.2879204892966363), OrderedStatistic(items_base=frozenset({'whole milk', 'whipped/sour cream'}), items_add=frozenset({'beef'}), confidence=0.10144927536231885, lift=2.988160447335388)]),\n",
       " RelationRecord(items=frozenset({'whole milk', 'beverages', 'sausage'}), support=0.0003341575887188398, ordered_statistics=[OrderedStatistic(items_base=frozenset({'whole milk', 'beverages'}), items_add=frozenset({'sausage'}), confidence=0.1724137931034483, lift=2.8569519227097415)]),\n",
       " RelationRecord(items=frozenset({'bottled water', 'bottled beer', 'sausage'}), support=0.0003341575887188398, ordered_statistics=[OrderedStatistic(items_base=frozenset({'bottled water', 'bottled beer'}), items_add=frozenset({'sausage'}), confidence=0.13157894736842107, lift=2.1803054146995398), OrderedStatistic(items_base=frozenset({'bottled water', 'sausage'}), items_add=frozenset({'bottled beer'}), confidence=0.10638297872340426, lift=2.3478001631833303)]),\n",
       " RelationRecord(items=frozenset({'butter', 'bottled beer', 'sausage'}), support=0.0003341575887188398, ordered_statistics=[OrderedStatistic(items_base=frozenset({'butter', 'bottled beer'}), items_add=frozenset({'sausage'}), confidence=0.2, lift=3.3140642303433), OrderedStatistic(items_base=frozenset({'bottled beer', 'sausage'}), items_add=frozenset({'butter'}), confidence=0.1, lift=2.8392789373814042), OrderedStatistic(items_base=frozenset({'butter', 'sausage'}), items_add=frozenset({'bottled beer'}), confidence=0.1724137931034483, lift=3.8050554368833285)]),\n",
       " RelationRecord(items=frozenset({'whole milk', 'chicken', 'bottled beer'}), support=0.0003341575887188398, ordered_statistics=[OrderedStatistic(items_base=frozenset({'chicken', 'bottled beer'}), items_add=frozenset({'whole milk'}), confidence=0.3333333333333333, lift=2.110734941458598), OrderedStatistic(items_base=frozenset({'whole milk', 'chicken'}), items_add=frozenset({'bottled beer'}), confidence=0.09803921568627451, lift=2.1636589739140493)]),\n",
       " RelationRecord(items=frozenset({'whole milk', 'chocolate', 'bottled beer'}), support=0.0003341575887188398, ordered_statistics=[OrderedStatistic(items_base=frozenset({'chocolate', 'bottled beer'}), items_add=frozenset({'whole milk'}), confidence=0.3333333333333333, lift=2.110734941458598), OrderedStatistic(items_base=frozenset({'whole milk', 'chocolate'}), items_add=frozenset({'bottled beer'}), confidence=0.11363636363636365, lift=2.5078774470367393)]),\n",
       " RelationRecord(items=frozenset({'domestic eggs', 'rolls/buns', 'bottled beer'}), support=0.0003341575887188398, ordered_statistics=[OrderedStatistic(items_base=frozenset({'rolls/buns', 'bottled beer'}), items_add=frozenset({'domestic eggs'}), confidence=0.08333333333333333, lift=2.246696696696697), OrderedStatistic(items_base=frozenset({'domestic eggs', 'rolls/buns'}), items_add=frozenset({'bottled beer'}), confidence=0.09803921568627451, lift=2.1636589739140493)]),\n",
       " RelationRecord(items=frozenset({'frankfurter', 'rolls/buns', 'bottled beer'}), support=0.0003341575887188398, ordered_statistics=[OrderedStatistic(items_base=frozenset({'rolls/buns', 'bottled beer'}), items_add=frozenset({'frankfurter'}), confidence=0.08333333333333333, lift=2.2069321533923305), OrderedStatistic(items_base=frozenset({'frankfurter', 'rolls/buns'}), items_add=frozenset({'bottled beer'}), confidence=0.09090909090909091, lift=2.006301957629391)]),\n",
       " RelationRecord(items=frozenset({'hard cheese', 'whole milk', 'bottled beer'}), support=0.0003341575887188398, ordered_statistics=[OrderedStatistic(items_base=frozenset({'hard cheese', 'bottled beer'}), items_add=frozenset({'whole milk'}), confidence=0.4545454545454546, lift=2.8782749201708158), OrderedStatistic(items_base=frozenset({'hard cheese', 'whole milk'}), items_add=frozenset({'bottled beer'}), confidence=0.17857142857142858, lift=3.9409502739148756)]),\n",
       " RelationRecord(items=frozenset({'newspapers', 'bottled water', 'yogurt'}), support=0.00040098910646260775, ordered_statistics=[OrderedStatistic(items_base=frozenset({'newspapers', 'bottled water'}), items_add=frozenset({'yogurt'}), confidence=0.2222222222222222, lift=2.5876351059230434), OrderedStatistic(items_base=frozenset({'bottled water', 'yogurt'}), items_add=frozenset({'newspapers'}), confidence=0.10526315789473684, lift=2.7062759992765417), OrderedStatistic(items_base=frozenset({'newspapers', 'yogurt'}), items_add=frozenset({'bottled water'}), confidence=0.13953488372093023, lift=2.29940579858621)]),\n",
       " RelationRecord(items=frozenset({'brown bread', 'canned beer', 'frozen vegetables'}), support=0.0003341575887188398, ordered_statistics=[OrderedStatistic(items_base=frozenset({'brown bread', 'canned beer'}), items_add=frozenset({'frozen vegetables'}), confidence=0.1388888888888889, lift=4.959891275523733), OrderedStatistic(items_base=frozenset({'brown bread', 'frozen vegetables'}), items_add=frozenset({'canned beer'}), confidence=0.35714285714285715, lift=7.612433862433862), OrderedStatistic(items_base=frozenset({'canned beer', 'frozen vegetables'}), items_add=frozenset({'brown bread'}), confidence=0.25, lift=6.644316163410303)]),\n",
       " RelationRecord(items=frozenset({'brown bread', 'canned beer', 'sausage'}), support=0.00040098910646260775, ordered_statistics=[OrderedStatistic(items_base=frozenset({'brown bread', 'canned beer'}), items_add=frozenset({'sausage'}), confidence=0.16666666666666666, lift=2.7617201919527496), OrderedStatistic(items_base=frozenset({'brown bread', 'sausage'}), items_add=frozenset({'canned beer'}), confidence=0.2222222222222222, lift=4.736625514403292), OrderedStatistic(items_base=frozenset({'canned beer', 'sausage'}), items_add=frozenset({'brown bread'}), confidence=0.16216216216216214, lift=4.309826700590466)]),\n",
       " RelationRecord(items=frozenset({'whole milk', 'brown bread', 'pork'}), support=0.0003341575887188398, ordered_statistics=[OrderedStatistic(items_base=frozenset({'whole milk', 'brown bread'}), items_add=frozenset({'pork'}), confidence=0.0746268656716418, lift=2.011967191071669)]),\n",
       " RelationRecord(items=frozenset({'butter', 'frankfurter', 'soda'}), support=0.0003341575887188398, ordered_statistics=[OrderedStatistic(items_base=frozenset({'butter', 'frankfurter'}), items_add=frozenset({'soda'}), confidence=0.2380952380952381, lift=2.451905745092256), OrderedStatistic(items_base=frozenset({'butter', 'soda'}), items_add=frozenset({'frankfurter'}), confidence=0.10638297872340426, lift=2.8173601958199965), OrderedStatistic(items_base=frozenset({'frankfurter', 'soda'}), items_add=frozenset({'butter'}), confidence=0.10869565217391304, lift=3.0861727580232654)]),\n",
       " RelationRecord(items=frozenset({'butter', 'soda', 'shopping bags'}), support=0.0003341575887188398, ordered_statistics=[OrderedStatistic(items_base=frozenset({'butter', 'shopping bags'}), items_add=frozenset({'soda'}), confidence=0.25, lift=2.574501032346869), OrderedStatistic(items_base=frozenset({'butter', 'soda'}), items_add=frozenset({'shopping bags'}), confidence=0.10638297872340426, lift=2.235686110447048), OrderedStatistic(items_base=frozenset({'soda', 'shopping bags'}), items_add=frozenset({'butter'}), confidence=0.07575757575757576, lift=2.150968891955609)]),\n",
       " RelationRecord(items=frozenset({'butter milk', 'canned beer', 'yogurt'}), support=0.0003341575887188398, ordered_statistics=[OrderedStatistic(items_base=frozenset({'butter milk', 'canned beer'}), items_add=frozenset({'yogurt'}), confidence=0.4166666666666667, lift=4.851815823605707), OrderedStatistic(items_base=frozenset({'butter milk', 'yogurt'}), items_add=frozenset({'canned beer'}), confidence=0.26315789473684215, lift=5.609161793372321), OrderedStatistic(items_base=frozenset({'canned beer', 'yogurt'}), items_add=frozenset({'butter milk'}), confidence=0.08620689655172414, lift=4.9046151829028455)]),\n",
       " RelationRecord(items=frozenset({'candy', 'rolls/buns', 'yogurt'}), support=0.0003341575887188398, ordered_statistics=[OrderedStatistic(items_base=frozenset({'candy', 'rolls/buns'}), items_add=frozenset({'yogurt'}), confidence=0.2272727272727273, lift=2.646444994694022), OrderedStatistic(items_base=frozenset({'candy', 'yogurt'}), items_add=frozenset({'rolls/buns'}), confidence=0.2777777777777778, lift=2.5251451329823142)]),\n",
       " RelationRecord(items=frozenset({'chicken', 'whole milk', 'canned beer'}), support=0.00040098910646260775, ordered_statistics=[OrderedStatistic(items_base=frozenset({'chicken', 'canned beer'}), items_add=frozenset({'whole milk'}), confidence=0.3529411764705882, lift=2.234895820367927), OrderedStatistic(items_base=frozenset({'whole milk', 'canned beer'}), items_add=frozenset({'chicken'}), confidence=0.06666666666666667, lift=2.3921662669864108), OrderedStatistic(items_base=frozenset({'whole milk', 'chicken'}), items_add=frozenset({'canned beer'}), confidence=0.11764705882352941, lift=2.5076252723311545)]),\n",
       " RelationRecord(items=frozenset({'canned beer', 'sausage', 'frozen vegetables'}), support=0.0003341575887188398, ordered_statistics=[OrderedStatistic(items_base=frozenset({'canned beer', 'frozen vegetables'}), items_add=frozenset({'sausage'}), confidence=0.25, lift=4.142580287929125), OrderedStatistic(items_base=frozenset({'canned beer', 'sausage'}), items_add=frozenset({'frozen vegetables'}), confidence=0.13513513513513514, lift=4.825840159969038), OrderedStatistic(items_base=frozenset({'sausage', 'frozen vegetables'}), items_add=frozenset({'canned beer'}), confidence=0.16129032258064518, lift=3.4378733572281965)]),\n",
       " RelationRecord(items=frozenset({'hygiene articles', 'canned beer', 'whole milk'}), support=0.00040098910646260775, ordered_statistics=[OrderedStatistic(items_base=frozenset({'hygiene articles', 'canned beer'}), items_add=frozenset({'whole milk'}), confidence=0.5454545454545454, lift=3.4539299042049785), OrderedStatistic(items_base=frozenset({'whole milk', 'canned beer'}), items_add=frozenset({'hygiene articles'}), confidence=0.06666666666666667, lift=4.866016260162602), OrderedStatistic(items_base=frozenset({'hygiene articles', 'whole milk'}), items_add=frozenset({'canned beer'}), confidence=0.23076923076923078, lift=4.918803418803419)]),\n",
       " RelationRecord(items=frozenset({'rolls/buns', 'canned beer', 'pork'}), support=0.0003341575887188398, ordered_statistics=[OrderedStatistic(items_base=frozenset({'rolls/buns', 'canned beer'}), items_add=frozenset({'pork'}), confidence=0.07936507936507937, lift=2.13971113971114), OrderedStatistic(items_base=frozenset({'rolls/buns', 'pork'}), items_add=frozenset({'canned beer'}), confidence=0.09803921568627451, lift=2.089687726942629)]),\n",
       " RelationRecord(items=frozenset({'chewing gum', 'soda', 'yogurt'}), support=0.00040098910646260775, ordered_statistics=[OrderedStatistic(items_base=frozenset({'chewing gum', 'soda'}), items_add=frozenset({'yogurt'}), confidence=0.39999999999999997, lift=4.657743190661479), OrderedStatistic(items_base=frozenset({'chewing gum', 'yogurt'}), items_add=frozenset({'soda'}), confidence=0.2857142857142857, lift=2.942286894110707), OrderedStatistic(items_base=frozenset({'soda', 'yogurt'}), items_add=frozenset({'chewing gum'}), confidence=0.06896551724137931, lift=5.732950191570882)]),\n",
       " RelationRecord(items=frozenset({'chewing gum', 'whole milk', 'yogurt'}), support=0.0003341575887188398, ordered_statistics=[OrderedStatistic(items_base=frozenset({'chewing gum', 'whole milk'}), items_add=frozenset({'yogurt'}), confidence=0.2, lift=2.3288715953307393)]),\n",
       " RelationRecord(items=frozenset({'citrus fruit', 'other vegetables', 'curd'}), support=0.0003341575887188398, ordered_statistics=[OrderedStatistic(items_base=frozenset({'citrus fruit', 'curd'}), items_add=frozenset({'other vegetables'}), confidence=0.29411764705882354, lift=2.4088026015003705), OrderedStatistic(items_base=frozenset({'citrus fruit', 'other vegetables'}), items_add=frozenset({'curd'}), confidence=0.06944444444444445, lift=2.061700837742505)]),\n",
       " RelationRecord(items=frozenset({'citrus fruit', 'frankfurter', 'yogurt'}), support=0.0003341575887188398, ordered_statistics=[OrderedStatistic(items_base=frozenset({'citrus fruit', 'frankfurter'}), items_add=frozenset({'yogurt'}), confidence=0.19230769230769232, lift=2.2392996108949417), OrderedStatistic(items_base=frozenset({'frankfurter', 'yogurt'}), items_add=frozenset({'citrus fruit'}), confidence=0.13157894736842107, lift=2.4764978483945717)]),\n",
       " RelationRecord(items=frozenset({'citrus fruit', 'other vegetables', 'frozen vegetables'}), support=0.0003341575887188398, ordered_statistics=[OrderedStatistic(items_base=frozenset({'citrus fruit', 'other vegetables'}), items_add=frozenset({'frozen vegetables'}), confidence=0.06944444444444445, lift=2.4799456377618667), OrderedStatistic(items_base=frozenset({'other vegetables', 'frozen vegetables'}), items_add=frozenset({'citrus fruit'}), confidence=0.10638297872340426, lift=2.0022748561488024)]),\n",
       " RelationRecord(items=frozenset({'citrus fruit', 'other vegetables', 'pip fruit'}), support=0.00040098910646260775, ordered_statistics=[OrderedStatistic(items_base=frozenset({'citrus fruit', 'pip fruit'}), items_add=frozenset({'other vegetables'}), confidence=0.2727272727272727, lift=2.2336169577548888)]),\n",
       " RelationRecord(items=frozenset({'citrus fruit', 'other vegetables', 'pork'}), support=0.00046782062420637575, ordered_statistics=[OrderedStatistic(items_base=frozenset({'citrus fruit', 'other vegetables'}), items_add=frozenset({'pork'}), confidence=0.09722222222222222, lift=2.6211461461461463), OrderedStatistic(items_base=frozenset({'citrus fruit', 'pork'}), items_add=frozenset({'other vegetables'}), confidence=0.35000000000000003, lift=2.866475095785441), OrderedStatistic(items_base=frozenset({'other vegetables', 'pork'}), items_add=frozenset({'citrus fruit'}), confidence=0.11864406779661017, lift=2.233045517535444)]),\n",
       " RelationRecord(items=frozenset({'citrus fruit', 'yogurt', 'pork'}), support=0.00040098910646260775, ordered_statistics=[OrderedStatistic(items_base=frozenset({'citrus fruit', 'pork'}), items_add=frozenset({'yogurt'}), confidence=0.3, lift=3.4933073929961087), OrderedStatistic(items_base=frozenset({'citrus fruit', 'yogurt'}), items_add=frozenset({'pork'}), confidence=0.08695652173913043, lift=2.3443791617704663), OrderedStatistic(items_base=frozenset({'yogurt', 'pork'}), items_add=frozenset({'citrus fruit'}), confidence=0.13043478260869565, lift=2.454963084495488)]),\n",
       " RelationRecord(items=frozenset({'frankfurter', 'rolls/buns', 'coffee'}), support=0.0003341575887188398, ordered_statistics=[OrderedStatistic(items_base=frozenset({'frankfurter', 'coffee'}), items_add=frozenset({'rolls/buns'}), confidence=0.2272727272727273, lift=2.066027836076439), OrderedStatistic(items_base=frozenset({'rolls/buns', 'coffee'}), items_add=frozenset({'frankfurter'}), confidence=0.1388888888888889, lift=3.6782202556538843), OrderedStatistic(items_base=frozenset({'frankfurter', 'rolls/buns'}), items_add=frozenset({'coffee'}), confidence=0.09090909090909091, lift=2.8758408610417066)]),\n",
       " RelationRecord(items=frozenset({'frankfurter', 'soda', 'coffee'}), support=0.0003341575887188398, ordered_statistics=[OrderedStatistic(items_base=frozenset({'frankfurter', 'coffee'}), items_add=frozenset({'soda'}), confidence=0.2272727272727273, lift=2.340455483951699), OrderedStatistic(items_base=frozenset({'soda', 'coffee'}), items_add=frozenset({'frankfurter'}), confidence=0.13513513513513514, lift=3.578808897392969), OrderedStatistic(items_base=frozenset({'frankfurter', 'soda'}), items_add=frozenset({'coffee'}), confidence=0.10869565217391304, lift=3.438505377332475)]),\n",
       " RelationRecord(items=frozenset({'sausage', 'coffee', 'pastry'}), support=0.0003341575887188398, ordered_statistics=[OrderedStatistic(items_base=frozenset({'coffee', 'pastry'}), items_add=frozenset({'sausage'}), confidence=0.2380952380952381, lift=3.9453145599325), OrderedStatistic(items_base=frozenset({'coffee', 'sausage'}), items_add=frozenset({'pastry'}), confidence=0.25, lift=4.833010335917313), OrderedStatistic(items_base=frozenset({'sausage', 'pastry'}), items_add=frozenset({'coffee'}), confidence=0.10416666666666667, lift=3.2952343199436225)]),\n",
       " RelationRecord(items=frozenset({'soda', 'root vegetables', 'coffee'}), support=0.00040098910646260775, ordered_statistics=[OrderedStatistic(items_base=frozenset({'root vegetables', 'coffee'}), items_add=frozenset({'soda'}), confidence=0.19999999999999998, lift=2.059600825877495), OrderedStatistic(items_base=frozenset({'soda', 'coffee'}), items_add=frozenset({'root vegetables'}), confidence=0.16216216216216214, lift=2.330866889944699), OrderedStatistic(items_base=frozenset({'soda', 'root vegetables'}), items_add=frozenset({'coffee'}), confidence=0.07594936708860758, lift=2.402601225680413)]),\n",
       " RelationRecord(items=frozenset({'other vegetables', 'root vegetables', 'cream cheese '}), support=0.0003341575887188398, ordered_statistics=[OrderedStatistic(items_base=frozenset({'other vegetables', 'cream cheese '}), items_add=frozenset({'root vegetables'}), confidence=0.15625, lift=2.245887367915466), OrderedStatistic(items_base=frozenset({'other vegetables', 'root vegetables'}), items_add=frozenset({'cream cheese '}), confidence=0.06329113924050633, lift=2.6752127583494247)]),\n",
       " RelationRecord(items=frozenset({'sausage', 'curd', 'fruit/vegetable juice'}), support=0.0003341575887188398, ordered_statistics=[OrderedStatistic(items_base=frozenset({'curd', 'fruit/vegetable juice'}), items_add=frozenset({'sausage'}), confidence=0.5, lift=8.28516057585825), OrderedStatistic(items_base=frozenset({'curd', 'sausage'}), items_add=frozenset({'fruit/vegetable juice'}), confidence=0.11363636363636365, lift=3.340551884265048), OrderedStatistic(items_base=frozenset({'fruit/vegetable juice', 'sausage'}), items_add=frozenset({'curd'}), confidence=0.1851851851851852, lift=5.497868900646679)]),\n",
       " RelationRecord(items=frozenset({'margarine', 'curd', 'sausage'}), support=0.0003341575887188398, ordered_statistics=[OrderedStatistic(items_base=frozenset({'margarine', 'curd'}), items_add=frozenset({'sausage'}), confidence=0.3125, lift=5.178225359911406), OrderedStatistic(items_base=frozenset({'curd', 'sausage'}), items_add=frozenset({'margarine'}), confidence=0.11363636363636365, lift=3.5276782346284423), OrderedStatistic(items_base=frozenset({'margarine', 'sausage'}), items_add=frozenset({'curd'}), confidence=0.17857142857142858, lift=5.301516439909298)]),\n",
       " RelationRecord(items=frozenset({'rolls/buns', 'curd', 'sausage'}), support=0.00040098910646260775, ordered_statistics=[OrderedStatistic(items_base=frozenset({'rolls/buns', 'curd'}), items_add=frozenset({'sausage'}), confidence=0.14634146341463414, lift=2.4249250465926586), OrderedStatistic(items_base=frozenset({'rolls/buns', 'sausage'}), items_add=frozenset({'curd'}), confidence=0.075, lift=2.226636904761905)]),\n",
       " RelationRecord(items=frozenset({'yogurt', 'curd', 'sausage'}), support=0.00046782062420637575, ordered_statistics=[OrderedStatistic(items_base=frozenset({'yogurt', 'curd'}), items_add=frozenset({'sausage'}), confidence=0.2058823529411765, lift=3.4115367077063388), OrderedStatistic(items_base=frozenset({'yogurt', 'sausage'}), items_add=frozenset({'curd'}), confidence=0.08139534883720931, lift=2.4165051679586567)]),\n",
       " RelationRecord(items=frozenset({'soda', 'rolls/buns', 'dessert'}), support=0.0003341575887188398, ordered_statistics=[OrderedStatistic(items_base=frozenset({'soda', 'dessert'}), items_add=frozenset({'rolls/buns'}), confidence=0.2272727272727273, lift=2.066027836076439)]),\n",
       " RelationRecord(items=frozenset({'whole milk', 'dessert', 'sausage'}), support=0.00040098910646260775, ordered_statistics=[OrderedStatistic(items_base=frozenset({'whole milk', 'dessert'}), items_add=frozenset({'sausage'}), confidence=0.16666666666666666, lift=2.7617201919527496)]),\n",
       " RelationRecord(items=frozenset({'domestic eggs', 'frankfurter', 'other vegetables'}), support=0.00040098910646260775, ordered_statistics=[OrderedStatistic(items_base=frozenset({'domestic eggs', 'frankfurter'}), items_add=frozenset({'other vegetables'}), confidence=0.2857142857142857, lift=2.339979670028931), OrderedStatistic(items_base=frozenset({'domestic eggs', 'other vegetables'}), items_add=frozenset({'frankfurter'}), confidence=0.11320754716981131, lift=2.998096510268826), OrderedStatistic(items_base=frozenset({'frankfurter', 'other vegetables'}), items_add=frozenset({'domestic eggs'}), confidence=0.07792207792207792, lift=2.100807300807301)]),\n",
       " RelationRecord(items=frozenset({'frankfurter', 'other vegetables', 'root vegetables'}), support=0.00040098910646260775, ordered_statistics=[OrderedStatistic(items_base=frozenset({'other vegetables', 'root vegetables'}), items_add=frozenset({'frankfurter'}), confidence=0.07594936708860758, lift=2.011381203091744)]),\n",
       " RelationRecord(items=frozenset({'frankfurter', 'other vegetables', 'sausage'}), support=0.00040098910646260775, ordered_statistics=[OrderedStatistic(items_base=frozenset({'frankfurter', 'sausage'}), items_add=frozenset({'other vegetables'}), confidence=0.2727272727272727, lift=2.2336169577548888)]),\n",
       " RelationRecord(items=frozenset({'frankfurter', 'soda', 'sausage'}), support=0.0003341575887188398, ordered_statistics=[OrderedStatistic(items_base=frozenset({'frankfurter', 'sausage'}), items_add=frozenset({'soda'}), confidence=0.2272727272727273, lift=2.340455483951699)]),\n",
       " RelationRecord(items=frozenset({'rolls/buns', 'root vegetables', 'frozen vegetables'}), support=0.0003341575887188398, ordered_statistics=[OrderedStatistic(items_base=frozenset({'rolls/buns', 'root vegetables'}), items_add=frozenset({'frozen vegetables'}), confidence=0.05813953488372093, lift=2.0762335571959816)]),\n",
       " RelationRecord(items=frozenset({'whole milk', 'yogurt', 'grapes'}), support=0.0003341575887188398, ordered_statistics=[OrderedStatistic(items_base=frozenset({'whole milk', 'grapes'}), items_add=frozenset({'yogurt'}), confidence=0.1724137931034483, lift=2.007647927009258), OrderedStatistic(items_base=frozenset({'yogurt', 'grapes'}), items_add=frozenset({'whole milk'}), confidence=0.35714285714285715, lift=2.261501722991355)]),\n",
       " RelationRecord(items=frozenset({'hard cheese', 'other vegetables', 'sausage'}), support=0.0003341575887188398, ordered_statistics=[OrderedStatistic(items_base=frozenset({'hard cheese', 'other vegetables'}), items_add=frozenset({'sausage'}), confidence=0.2, lift=3.3140642303433), OrderedStatistic(items_base=frozenset({'hard cheese', 'sausage'}), items_add=frozenset({'other vegetables'}), confidence=0.4545454545454546, lift=3.7226949295914817), OrderedStatistic(items_base=frozenset({'other vegetables', 'sausage'}), items_add=frozenset({'hard cheese'}), confidence=0.05555555555555556, lift=3.778535353535354)]),\n",
       " RelationRecord(items=frozenset({'ice cream', 'rolls/buns', 'pip fruit'}), support=0.0003341575887188398, ordered_statistics=[OrderedStatistic(items_base=frozenset({'ice cream', 'pip fruit'}), items_add=frozenset({'rolls/buns'}), confidence=0.5, lift=4.545261239368165), OrderedStatistic(items_base=frozenset({'ice cream', 'rolls/buns'}), items_add=frozenset({'pip fruit'}), confidence=0.19230769230769232, lift=3.920299727520436), OrderedStatistic(items_base=frozenset({'rolls/buns', 'pip fruit'}), items_add=frozenset({'ice cream'}), confidence=0.06756756756756757, lift=4.453804024288606)]),\n",
       " RelationRecord(items=frozenset({'other vegetables', 'margarine', 'pork'}), support=0.0003341575887188398, ordered_statistics=[OrderedStatistic(items_base=frozenset({'other vegetables', 'margarine'}), items_add=frozenset({'pork'}), confidence=0.10416666666666667, lift=2.808370870870871), OrderedStatistic(items_base=frozenset({'margarine', 'pork'}), items_add=frozenset({'other vegetables'}), confidence=0.25, lift=2.0474822112753146), OrderedStatistic(items_base=frozenset({'other vegetables', 'pork'}), items_add=frozenset({'margarine'}), confidence=0.0847457627118644, lift=2.63081088684155)]),\n",
       " RelationRecord(items=frozenset({'whole milk', 'pip fruit', 'margarine'}), support=0.00040098910646260775, ordered_statistics=[OrderedStatistic(items_base=frozenset({'whole milk', 'margarine'}), items_add=frozenset({'pip fruit'}), confidence=0.09836065573770492, lift=2.005136909813731)]),\n",
       " RelationRecord(items=frozenset({'shopping bags', 'root vegetables', 'margarine'}), support=0.0003341575887188398, ordered_statistics=[OrderedStatistic(items_base=frozenset({'root vegetables', 'margarine'}), items_add=frozenset({'shopping bags'}), confidence=0.1724137931034483, lift=3.623353351414181), OrderedStatistic(items_base=frozenset({'shopping bags', 'margarine'}), items_add=frozenset({'root vegetables'}), confidence=0.3333333333333333, lift=4.791226384886326), OrderedStatistic(items_base=frozenset({'shopping bags', 'root vegetables'}), items_add=frozenset({'margarine'}), confidence=0.1, lift=3.104356846473029)]),\n",
       " RelationRecord(items=frozenset({'yogurt', 'margarine', 'sausage'}), support=0.00040098910646260775, ordered_statistics=[OrderedStatistic(items_base=frozenset({'margarine', 'sausage'}), items_add=frozenset({'yogurt'}), confidence=0.21428571428571427, lift=2.495219566425792), OrderedStatistic(items_base=frozenset({'yogurt', 'margarine'}), items_add=frozenset({'sausage'}), confidence=0.18749999999999997, lift=3.1069352159468435), OrderedStatistic(items_base=frozenset({'yogurt', 'sausage'}), items_add=frozenset({'margarine'}), confidence=0.06976744186046512, lift=2.1658303580044387)]),\n",
       " RelationRecord(items=frozenset({'newspapers', 'other vegetables', 'pastry'}), support=0.0003341575887188398, ordered_statistics=[OrderedStatistic(items_base=frozenset({'other vegetables', 'pastry'}), items_add=frozenset({'newspapers'}), confidence=0.09090909090909091, lift=2.3372383630115587)]),\n",
       " RelationRecord(items=frozenset({'newspapers', 'sausage', 'pastry'}), support=0.0003341575887188398, ordered_statistics=[OrderedStatistic(items_base=frozenset({'newspapers', 'pastry'}), items_add=frozenset({'sausage'}), confidence=0.16666666666666666, lift=2.7617201919527496), OrderedStatistic(items_base=frozenset({'newspapers', 'sausage'}), items_add=frozenset({'pastry'}), confidence=0.1851851851851852, lift=3.580007656235047), OrderedStatistic(items_base=frozenset({'sausage', 'pastry'}), items_add=frozenset({'newspapers'}), confidence=0.10416666666666667, lift=2.678085624284078)]),\n",
       " RelationRecord(items=frozenset({'newspapers', 'soda', 'pastry'}), support=0.0003341575887188398, ordered_statistics=[OrderedStatistic(items_base=frozenset({'newspapers', 'soda'}), items_add=frozenset({'pastry'}), confidence=0.14285714285714288, lift=2.7617201919527505), OrderedStatistic(items_base=frozenset({'soda', 'pastry'}), items_add=frozenset({'newspapers'}), confidence=0.0819672131147541, lift=2.107346065010422)]),\n",
       " RelationRecord(items=frozenset({'newspapers', 'soda', 'sausage'}), support=0.00040098910646260775, ordered_statistics=[OrderedStatistic(items_base=frozenset({'newspapers', 'sausage'}), items_add=frozenset({'soda'}), confidence=0.2222222222222222, lift=2.2884453620861054), OrderedStatistic(items_base=frozenset({'newspapers', 'soda'}), items_add=frozenset({'sausage'}), confidence=0.17142857142857143, lift=2.8406264831514)]),\n",
       " RelationRecord(items=frozenset({'onions', 'yogurt', 'tropical fruit'}), support=0.0003341575887188398, ordered_statistics=[OrderedStatistic(items_base=frozenset({'onions', 'tropical fruit'}), items_add=frozenset({'yogurt'}), confidence=0.2777777777777778, lift=3.2345438824038046), OrderedStatistic(items_base=frozenset({'onions', 'yogurt'}), items_add=frozenset({'tropical fruit'}), confidence=0.26315789473684215, lift=3.8832658569500684), OrderedStatistic(items_base=frozenset({'yogurt', 'tropical fruit'}), items_add=frozenset({'onions'}), confidence=0.0641025641025641, lift=3.165566556655665)]),\n",
       " RelationRecord(items=frozenset({'whole milk', 'onions', 'yogurt'}), support=0.00046782062420637575, ordered_statistics=[OrderedStatistic(items_base=frozenset({'onions', 'yogurt'}), items_add=frozenset({'whole milk'}), confidence=0.368421052631579, lift=2.3329175668752926)]),\n",
       " RelationRecord(items=frozenset({'other vegetables', 'shopping bags', 'sausage'}), support=0.0005346521419501437, ordered_statistics=[OrderedStatistic(items_base=frozenset({'shopping bags', 'sausage'}), items_add=frozenset({'other vegetables'}), confidence=0.2758620689655173, lift=2.259290715890003)]),\n",
       " RelationRecord(items=frozenset({'other vegetables', 'waffles', 'sausage'}), support=0.0003341575887188398, ordered_statistics=[OrderedStatistic(items_base=frozenset({'other vegetables', 'sausage'}), items_add=frozenset({'waffles'}), confidence=0.05555555555555556, lift=3.001002807862014), OrderedStatistic(items_base=frozenset({'other vegetables', 'waffles'}), items_add=frozenset({'sausage'}), confidence=0.19230769230769232, lift=3.1866002214839426), OrderedStatistic(items_base=frozenset({'waffles', 'sausage'}), items_add=frozenset({'other vegetables'}), confidence=0.4166666666666667, lift=3.4124703521255246)]),\n",
       " RelationRecord(items=frozenset({'white bread', 'other vegetables', 'sausage'}), support=0.0003341575887188398, ordered_statistics=[OrderedStatistic(items_base=frozenset({'other vegetables', 'sausage'}), items_add=frozenset({'white bread'}), confidence=0.05555555555555556, lift=2.3155369854534205), OrderedStatistic(items_base=frozenset({'white bread', 'other vegetables'}), items_add=frozenset({'sausage'}), confidence=0.1282051282051282, lift=2.1244001476559613)]),\n",
       " RelationRecord(items=frozenset({'white bread', 'soda', 'other vegetables'}), support=0.00040098910646260775, ordered_statistics=[OrderedStatistic(items_base=frozenset({'white bread', 'soda'}), items_add=frozenset({'other vegetables'}), confidence=0.2608695652173913, lift=2.136503176982937)]),\n",
       " RelationRecord(items=frozenset({'soft cheese', 'other vegetables', 'yogurt'}), support=0.0003341575887188398, ordered_statistics=[OrderedStatistic(items_base=frozenset({'soft cheese', 'other vegetables'}), items_add=frozenset({'yogurt'}), confidence=0.2777777777777778, lift=3.2345438824038046), OrderedStatistic(items_base=frozenset({'soft cheese', 'yogurt'}), items_add=frozenset({'other vegetables'}), confidence=0.26315789473684215, lift=2.1552444329213842)]),\n",
       " RelationRecord(items=frozenset({'whole milk', 'other vegetables', 'sugar'}), support=0.00046782062420637575, ordered_statistics=[OrderedStatistic(items_base=frozenset({'other vegetables', 'sugar'}), items_add=frozenset({'whole milk'}), confidence=0.368421052631579, lift=2.3329175668752926)]),\n",
       " RelationRecord(items=frozenset({'sausage', 'soda', 'pastry'}), support=0.0005346521419501437, ordered_statistics=[OrderedStatistic(items_base=frozenset({'soda', 'pastry'}), items_add=frozenset({'sausage'}), confidence=0.13114754098360656, lift=2.1731568723562624)]),\n",
       " RelationRecord(items=frozenset({'sausage', 'yogurt', 'pastry'}), support=0.00046782062420637575, ordered_statistics=[OrderedStatistic(items_base=frozenset({'yogurt', 'pastry'}), items_add=frozenset({'sausage'}), confidence=0.12962962962962962, lift=2.1480045937410277)]),\n",
       " RelationRecord(items=frozenset({'soda', 'pork', 'sausage'}), support=0.00040098910646260775, ordered_statistics=[OrderedStatistic(items_base=frozenset({'pork', 'sausage'}), items_add=frozenset({'soda'}), confidence=0.2608695652173913, lift=2.686435859840211), OrderedStatistic(items_base=frozenset({'soda', 'pork'}), items_add=frozenset({'sausage'}), confidence=0.13333333333333333, lift=2.2093761535622)]),\n",
       " RelationRecord(items=frozenset({'whole milk', 'pork', 'sausage'}), support=0.0006014836596939117, ordered_statistics=[OrderedStatistic(items_base=frozenset({'pork', 'sausage'}), items_add=frozenset({'whole milk'}), confidence=0.391304347826087, lift=2.4778192791035716)]),\n",
       " RelationRecord(items=frozenset({'yogurt', 'pork', 'sausage'}), support=0.00040098910646260775, ordered_statistics=[OrderedStatistic(items_base=frozenset({'pork', 'sausage'}), items_add=frozenset({'yogurt'}), confidence=0.2608695652173913, lift=3.037658602605312), OrderedStatistic(items_base=frozenset({'yogurt', 'pork'}), items_add=frozenset({'sausage'}), confidence=0.13043478260869565, lift=2.161346237180413)]),\n",
       " RelationRecord(items=frozenset({'whole milk', 'processed cheese', 'rolls/buns'}), support=0.00040098910646260775, ordered_statistics=[OrderedStatistic(items_base=frozenset({'whole milk', 'processed cheese'}), items_add=frozenset({'rolls/buns'}), confidence=0.2727272727272727, lift=2.4792334032917265)]),\n",
       " RelationRecord(items=frozenset({'rolls/buns', 'yogurt', 'whipped/sour cream'}), support=0.0006014836596939117, ordered_statistics=[OrderedStatistic(items_base=frozenset({'rolls/buns', 'whipped/sour cream'}), items_add=frozenset({'yogurt'}), confidence=0.20454545454545456, lift=2.3818004952246197)]),\n",
       " RelationRecord(items=frozenset({'shopping bags', 'yogurt', 'sausage'}), support=0.00040098910646260775, ordered_statistics=[OrderedStatistic(items_base=frozenset({'shopping bags', 'sausage'}), items_add=frozenset({'yogurt'}), confidence=0.20689655172413793, lift=2.4091775124111097)]),\n",
       " RelationRecord(items=frozenset({'whole milk', 'yogurt', 'sausage'}), support=0.0014702933903628951, ordered_statistics=[OrderedStatistic(items_base=frozenset({'whole milk', 'yogurt'}), items_add=frozenset({'sausage'}), confidence=0.1317365269461078, lift=2.1829165589087607)]),\n",
       " RelationRecord(items=frozenset({'whole milk', 'soda', 'other vegetables', 'pastry'}), support=0.0003341575887188398, ordered_statistics=[OrderedStatistic(items_base=frozenset({'other vegetables', 'pastry'}), items_add=frozenset({'whole milk', 'soda'}), confidence=0.09090909090909091, lift=7.817659352142111), OrderedStatistic(items_base=frozenset({'soda', 'pastry'}), items_add=frozenset({'whole milk', 'other vegetables'}), confidence=0.0819672131147541, lift=5.524664008270567), OrderedStatistic(items_base=frozenset({'whole milk', 'pastry'}), items_add=frozenset({'other vegetables', 'soda'}), confidence=0.051546391752577324, lift=5.319232136509065), OrderedStatistic(items_base=frozenset({'soda', 'other vegetables', 'pastry'}), items_add=frozenset({'whole milk'}), confidence=0.8333333333333334, lift=5.276837353646496), OrderedStatistic(items_base=frozenset({'whole milk', 'other vegetables', 'pastry'}), items_add=frozenset({'soda'}), confidence=0.5, lift=5.149002064693738), OrderedStatistic(items_base=frozenset({'whole milk', 'soda', 'other vegetables'}), items_add=frozenset({'pastry'}), confidence=0.29411764705882354, lift=5.685894512843897), OrderedStatistic(items_base=frozenset({'whole milk', 'soda', 'pastry'}), items_add=frozenset({'other vegetables'}), confidence=0.35714285714285715, lift=2.924974587536164)]),\n",
       " RelationRecord(items=frozenset({'whole milk', 'rolls/buns', 'yogurt', 'sausage'}), support=0.0003341575887188398, ordered_statistics=[OrderedStatistic(items_base=frozenset({'rolls/buns', 'sausage'}), items_add=frozenset({'whole milk', 'yogurt'}), confidence=0.0625, lift=5.599925149700599), OrderedStatistic(items_base=frozenset({'yogurt', 'sausage'}), items_add=frozenset({'whole milk', 'rolls/buns'}), confidence=0.05813953488372093, lift=4.162401246244575), OrderedStatistic(items_base=frozenset({'whole milk', 'rolls/buns', 'sausage'}), items_add=frozenset({'yogurt'}), confidence=0.29411764705882354, lift=3.4248111696040286), OrderedStatistic(items_base=frozenset({'rolls/buns', 'yogurt', 'sausage'}), items_add=frozenset({'whole milk'}), confidence=0.5555555555555556, lift=3.5178915690976633), OrderedStatistic(items_base=frozenset({'whole milk', 'rolls/buns', 'yogurt'}), items_add=frozenset({'sausage'}), confidence=0.25, lift=4.142580287929125), OrderedStatistic(items_base=frozenset({'whole milk', 'yogurt', 'sausage'}), items_add=frozenset({'rolls/buns'}), confidence=0.2272727272727273, lift=2.066027836076439)])]"
      ]
     },
     "execution_count": 104,
     "metadata": {},
     "output_type": "execute_result"
    }
   ],
   "source": [
    "#applying apriori\n",
    "from apyori import apriori\n",
    "rules = apriori(transactions, min_support=0.00030,min_confidence = 0.05,min_lift = 2,min_length = 2)\n",
    "results = list(rules)\n",
    "results"
   ]
  },
  {
   "cell_type": "markdown",
   "id": "89812ac4",
   "metadata": {},
   "source": [
    "# get the Length of the Result. "
   ]
  },
  {
   "cell_type": "code",
   "execution_count": 105,
   "id": "asian-scout",
   "metadata": {
    "execution": {
     "iopub.execute_input": "2021-05-24T12:21:36.873279Z",
     "iopub.status.busy": "2021-05-24T12:21:36.872039Z",
     "iopub.status.idle": "2021-05-24T12:21:36.876873Z",
     "shell.execute_reply": "2021-05-24T12:21:36.876287Z",
     "shell.execute_reply.started": "2021-05-24T12:12:44.691970Z"
    },
    "papermill": {
     "duration": 0.037579,
     "end_time": "2021-05-24T12:21:36.877035",
     "exception": false,
     "start_time": "2021-05-24T12:21:36.839456",
     "status": "completed"
    },
    "tags": []
   },
   "outputs": [
    {
     "data": {
      "text/plain": [
       "104"
      ]
     },
     "execution_count": 105,
     "metadata": {},
     "output_type": "execute_result"
    }
   ],
   "source": [
    "len(results)"
   ]
  },
  {
   "cell_type": "markdown",
   "id": "51d0f8c2",
   "metadata": {},
   "source": [
    "# To get the ordered items in the form of Support, Confidence and Lift."
   ]
  },
  {
   "cell_type": "code",
   "execution_count": 106,
   "id": "greatest-stylus",
   "metadata": {
    "execution": {
     "iopub.execute_input": "2021-05-24T12:21:36.942007Z",
     "iopub.status.busy": "2021-05-24T12:21:36.941144Z",
     "iopub.status.idle": "2021-05-24T12:21:36.944408Z",
     "shell.execute_reply": "2021-05-24T12:21:36.943744Z",
     "shell.execute_reply.started": "2021-05-24T12:19:18.924987Z"
    },
    "papermill": {
     "duration": 0.040274,
     "end_time": "2021-05-24T12:21:36.944587",
     "exception": false,
     "start_time": "2021-05-24T12:21:36.904313",
     "status": "completed"
    },
    "tags": []
   },
   "outputs": [],
   "source": [
    "def inspect(results):\n",
    "    lhs         = [tuple(result[2][0][0])[0] for result in results]\n",
    "    rhs         = [tuple(result[2][0][1])[0] for result in results]\n",
    "    supports    = [result[1] for result in results]\n",
    "    confidences = [result[2][0][2] for result in results]\n",
    "    lifts       = [result[2][0][3] for result in results]\n",
    "    return list(zip(lhs, rhs, supports, confidences, lifts))\n",
    "ordered_results = pd.DataFrame(inspect(results), columns = ['Left Hand Side', 'Right Hand Side', 'Support', 'Confidence', 'Lift'])"
   ]
  },
  {
   "cell_type": "code",
   "execution_count": 107,
   "id": "potential-ebony",
   "metadata": {
    "execution": {
     "iopub.execute_input": "2021-05-24T12:21:37.020758Z",
     "iopub.status.busy": "2021-05-24T12:21:37.019764Z",
     "iopub.status.idle": "2021-05-24T12:21:37.025350Z",
     "shell.execute_reply": "2021-05-24T12:21:37.024745Z",
     "shell.execute_reply.started": "2021-05-24T12:19:24.916416Z"
    },
    "papermill": {
     "duration": 0.05101,
     "end_time": "2021-05-24T12:21:37.025506",
     "exception": false,
     "start_time": "2021-05-24T12:21:36.974496",
     "status": "completed"
    },
    "tags": []
   },
   "outputs": [
    {
     "data": {
      "text/html": [
       "<div>\n",
       "<style scoped>\n",
       "    .dataframe tbody tr th:only-of-type {\n",
       "        vertical-align: middle;\n",
       "    }\n",
       "\n",
       "    .dataframe tbody tr th {\n",
       "        vertical-align: top;\n",
       "    }\n",
       "\n",
       "    .dataframe thead th {\n",
       "        text-align: right;\n",
       "    }\n",
       "</style>\n",
       "<table border=\"1\" class=\"dataframe\">\n",
       "  <thead>\n",
       "    <tr style=\"text-align: right;\">\n",
       "      <th></th>\n",
       "      <th>Left Hand Side</th>\n",
       "      <th>Right Hand Side</th>\n",
       "      <th>Support</th>\n",
       "      <th>Confidence</th>\n",
       "      <th>Lift</th>\n",
       "    </tr>\n",
       "  </thead>\n",
       "  <tbody>\n",
       "    <tr>\n",
       "      <th>0</th>\n",
       "      <td>artif. sweetener</td>\n",
       "      <td>soda</td>\n",
       "      <td>0.000468</td>\n",
       "      <td>0.241379</td>\n",
       "      <td>2.485725</td>\n",
       "    </tr>\n",
       "    <tr>\n",
       "      <th>1</th>\n",
       "      <td>condensed milk</td>\n",
       "      <td>berries</td>\n",
       "      <td>0.000334</td>\n",
       "      <td>0.051020</td>\n",
       "      <td>2.341774</td>\n",
       "    </tr>\n",
       "    <tr>\n",
       "      <th>2</th>\n",
       "      <td>brandy</td>\n",
       "      <td>whole milk</td>\n",
       "      <td>0.000869</td>\n",
       "      <td>0.342105</td>\n",
       "      <td>2.166281</td>\n",
       "    </tr>\n",
       "    <tr>\n",
       "      <th>3</th>\n",
       "      <td>sweet spreads</td>\n",
       "      <td>butter</td>\n",
       "      <td>0.000334</td>\n",
       "      <td>0.073529</td>\n",
       "      <td>2.087705</td>\n",
       "    </tr>\n",
       "    <tr>\n",
       "      <th>4</th>\n",
       "      <td>liver loaf</td>\n",
       "      <td>canned beer</td>\n",
       "      <td>0.000401</td>\n",
       "      <td>0.120000</td>\n",
       "      <td>2.557778</td>\n",
       "    </tr>\n",
       "    <tr>\n",
       "      <th>...</th>\n",
       "      <td>...</td>\n",
       "      <td>...</td>\n",
       "      <td>...</td>\n",
       "      <td>...</td>\n",
       "      <td>...</td>\n",
       "    </tr>\n",
       "    <tr>\n",
       "      <th>99</th>\n",
       "      <td>rolls/buns</td>\n",
       "      <td>yogurt</td>\n",
       "      <td>0.000601</td>\n",
       "      <td>0.204545</td>\n",
       "      <td>2.381800</td>\n",
       "    </tr>\n",
       "    <tr>\n",
       "      <th>100</th>\n",
       "      <td>shopping bags</td>\n",
       "      <td>yogurt</td>\n",
       "      <td>0.000401</td>\n",
       "      <td>0.206897</td>\n",
       "      <td>2.409178</td>\n",
       "    </tr>\n",
       "    <tr>\n",
       "      <th>101</th>\n",
       "      <td>whole milk</td>\n",
       "      <td>sausage</td>\n",
       "      <td>0.001470</td>\n",
       "      <td>0.131737</td>\n",
       "      <td>2.182917</td>\n",
       "    </tr>\n",
       "    <tr>\n",
       "      <th>102</th>\n",
       "      <td>other vegetables</td>\n",
       "      <td>whole milk</td>\n",
       "      <td>0.000334</td>\n",
       "      <td>0.090909</td>\n",
       "      <td>7.817659</td>\n",
       "    </tr>\n",
       "    <tr>\n",
       "      <th>103</th>\n",
       "      <td>rolls/buns</td>\n",
       "      <td>whole milk</td>\n",
       "      <td>0.000334</td>\n",
       "      <td>0.062500</td>\n",
       "      <td>5.599925</td>\n",
       "    </tr>\n",
       "  </tbody>\n",
       "</table>\n",
       "<p>104 rows × 5 columns</p>\n",
       "</div>"
      ],
      "text/plain": [
       "       Left Hand Side Right Hand Side   Support  Confidence      Lift\n",
       "0    artif. sweetener            soda  0.000468    0.241379  2.485725\n",
       "1      condensed milk         berries  0.000334    0.051020  2.341774\n",
       "2              brandy      whole milk  0.000869    0.342105  2.166281\n",
       "3       sweet spreads          butter  0.000334    0.073529  2.087705\n",
       "4          liver loaf     canned beer  0.000401    0.120000  2.557778\n",
       "..                ...             ...       ...         ...       ...\n",
       "99         rolls/buns          yogurt  0.000601    0.204545  2.381800\n",
       "100     shopping bags          yogurt  0.000401    0.206897  2.409178\n",
       "101        whole milk         sausage  0.001470    0.131737  2.182917\n",
       "102  other vegetables      whole milk  0.000334    0.090909  7.817659\n",
       "103        rolls/buns      whole milk  0.000334    0.062500  5.599925\n",
       "\n",
       "[104 rows x 5 columns]"
      ]
     },
     "execution_count": 107,
     "metadata": {},
     "output_type": "execute_result"
    }
   ],
   "source": [
    "ordered_results"
   ]
  },
  {
   "cell_type": "markdown",
   "id": "cba0797c",
   "metadata": {},
   "source": []
  },
  {
   "cell_type": "code",
   "execution_count": 108,
   "id": "5b06947d",
   "metadata": {},
   "outputs": [
    {
     "name": "stdout",
     "output_type": "stream",
     "text": [
      "Requirement already satisfied: wordcloud in d:\\raj_program_files_dsa\\anaconda\\lib\\site-packages (1.8.1)\n",
      "Requirement already satisfied: numpy>=1.6.1 in d:\\raj_program_files_dsa\\anaconda\\lib\\site-packages (from wordcloud) (1.20.1)\n",
      "Requirement already satisfied: matplotlib in d:\\raj_program_files_dsa\\anaconda\\lib\\site-packages (from wordcloud) (3.3.4)\n",
      "Requirement already satisfied: pillow in d:\\raj_program_files_dsa\\anaconda\\lib\\site-packages (from wordcloud) (8.2.0)\n",
      "Requirement already satisfied: cycler>=0.10 in d:\\raj_program_files_dsa\\anaconda\\lib\\site-packages (from matplotlib->wordcloud) (0.10.0)\n",
      "Requirement already satisfied: python-dateutil>=2.1 in d:\\raj_program_files_dsa\\anaconda\\lib\\site-packages (from matplotlib->wordcloud) (2.8.1)\n",
      "Requirement already satisfied: kiwisolver>=1.0.1 in d:\\raj_program_files_dsa\\anaconda\\lib\\site-packages (from matplotlib->wordcloud) (1.3.1)\n",
      "Requirement already satisfied: pyparsing!=2.0.4,!=2.1.2,!=2.1.6,>=2.0.3 in d:\\raj_program_files_dsa\\anaconda\\lib\\site-packages (from matplotlib->wordcloud) (2.4.7)\n",
      "Requirement already satisfied: six in d:\\raj_program_files_dsa\\anaconda\\lib\\site-packages (from cycler>=0.10->matplotlib->wordcloud) (1.15.0)\n"
     ]
    }
   ],
   "source": [
    "!pip install wordcloud\n"
   ]
  },
  {
   "cell_type": "code",
   "execution_count": 123,
   "id": "76152e3b",
   "metadata": {},
   "outputs": [
    {
     "data": {
      "image/png": "[encoded data removed]",
      "text/plain": [
       "<Figure size 1800x1800 with 1 Axes>"
      ]
     },
     "metadata": {
      "needs_background": "light"
     },
     "output_type": "display_data"
    }
   ],
   "source": [
    "import matplotlib.pyplot as plt\n",
    "import seaborn as sns\n",
    "\n",
    "from wordcloud import WordCloud\n",
    "\n",
    "plt.rcParams['figure.figsize'] = (25, 25)\n",
    "wordcloud = WordCloud(background_color = 'black',  max_words = 500).generate(str(ds['Description']))\n",
    "plt.imshow(wordcloud)\n",
    "plt.axis('off')\n",
    "plt.title('Most Popular Items',fontsize = 28, color = 'blue')\n",
    "plt.show()"
   ]
  },
  {
   "cell_type": "markdown",
   "id": "3e8467f3",
   "metadata": {},
   "source": [
    "# <font color = blue> ...\"\"\"THANKYOU\"\"\"... </font>\n",
    "\n",
    "1. <font color = red> <b> RAJKUMAR CHOUDHARY </font>\n",
    "       +91 89891-24888\n",
    "2. <font COLOR = purple> <b> RASHMI PARDESI </font>\n",
    "       +91 70000-28070\n",
    "3. <font color = brown> <b> DIKSHANT PANDEY </font>\n",
    "       +91 99779-19099"
   ]
  },
  {
   "cell_type": "code",
   "execution_count": null,
   "id": "73d7665b",
   "metadata": {},
   "outputs": [],
   "source": []
  }
 ],
 "metadata": {
  "kernelspec": {
   "display_name": "Python 3 (ipykernel)",
   "language": "python",
   "name": "python3"
  },
  "language_info": {
   "codemirror_mode": {
    "name": "ipython",
    "version": 3
   },
   "file_extension": ".py",
   "mimetype": "text/x-python",
   "name": "python",
   "nbconvert_exporter": "python",
   "pygments_lexer": "ipython3",
   "version": "3.9.7"
  },
  "papermill": {
   "default_parameters": {},
   "duration": 26.908671,
   "end_time": "2021-05-24T12:21:38.965893",
   "environment_variables": {},
   "exception": null,
   "input_path": "__notebook__.ipynb",
   "output_path": "__notebook__.ipynb",
   "parameters": {},
   "start_time": "2021-05-24T12:21:12.057222",
   "version": "2.3.3"
  }
 },
 "nbformat": 4,
 "nbformat_minor": 5
}
